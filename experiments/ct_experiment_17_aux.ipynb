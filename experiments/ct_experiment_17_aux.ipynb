{
 "cells": [
  {
   "cell_type": "code",
   "execution_count": 1,
   "metadata": {},
   "outputs": [],
   "source": [
    "import numpy as np\n",
    "import tensorflow as tf\n",
    "from tensorflow import keras\n",
    "import matplotlib.pyplot as plt\n",
    "import tensorflow_datasets as tfds\n",
    "from tensorflow.keras import layers\n",
    "import matplotlib.cm as cm\n",
    "import random\n",
    "import glob\n",
    "import os\n",
    "from skimage.segmentation import chan_vese\n",
    "import numpy as np\n",
    "import PIL \n",
    "from PIL import Image \n",
    "from tensorboard.plugins.hparams import api as hp\n",
    "import pandas as pd\n",
    "from shutil import copy\n",
    "import cv2\n",
    "\n",
    "# Display\n",
    "# from IPython.display import Image, display\n",
    "import matplotlib.pyplot as plt\n",
    "import matplotlib.cm as cm\n",
    "\n",
    "# My functions\n",
    "import my_functions as mf\n",
    "\n",
    "# tf explain\n",
    "from tf_explain.callbacks.grad_cam import GradCAMCallback"
   ]
  },
  {
   "cell_type": "code",
   "execution_count": 2,
   "metadata": {},
   "outputs": [],
   "source": [
    "mf.aply_segmentation_to_folder(\n",
    "   original_folder_path=\"datasets\\\\ct_scan_1\\\\datasetsSARS-COV-2 Ct-Scan\\\\COVID-negative\\\\\"\n",
    "   ,destination_folder_path=\"datasets\\\\ct_scan_8\\\\train\\\\COVID-negative\\\\\"\n",
    "   ,init_level_set='checkerboard'\n",
    "   ,mu=1)"
   ]
  },
  {
   "cell_type": "code",
   "execution_count": null,
   "metadata": {},
   "outputs": [],
   "source": []
  }
 ],
 "metadata": {
  "interpreter": {
   "hash": "c045a8ea59cdb5764c8b4b89290aa3295f4837cdee8772d3412e47804e2da410"
  },
  "kernelspec": {
   "display_name": "Python 3.7.8 64-bit",
   "language": "python",
   "name": "python3"
  },
  "language_info": {
   "codemirror_mode": {
    "name": "ipython",
    "version": 3
   },
   "file_extension": ".py",
   "mimetype": "text/x-python",
   "name": "python",
   "nbconvert_exporter": "python",
   "pygments_lexer": "ipython3",
   "version": "3.7.8"
  },
  "orig_nbformat": 4
 },
 "nbformat": 4,
 "nbformat_minor": 2
}
